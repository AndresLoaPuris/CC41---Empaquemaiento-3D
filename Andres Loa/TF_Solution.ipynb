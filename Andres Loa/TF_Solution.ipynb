{
 "cells": [
  {
   "cell_type": "code",
   "execution_count": 12,
   "metadata": {},
   "outputs": [],
   "source": [
    "CODIGO = 0\n",
    "ALTO = 1\n",
    "LARGO = 2\n",
    "ANCHO = 3\n",
    "X = 4\n",
    "Y = 5\n",
    "Z = 6\n",
    "VOLUMEN = 7\n",
    "ORIENTACION = 8\n",
    "\n",
    "import math as mth\n",
    "import pygame, sys\n",
    "from pygame.locals import *\n",
    "import time\n",
    "\n",
    "import numpy as np\n",
    "import matplotlib.pyplot as plt\n",
    "from mpl_toolkits.mplot3d import Axes3D\n",
    "from mpl_toolkits.mplot3d.art3d import Poly3DCollection, Line3DCollection\n"
   ]
  },
  {
   "cell_type": "markdown",
   "metadata": {},
   "source": [
    "## Function Read DataSet"
   ]
  },
  {
   "cell_type": "code",
   "execution_count": 13,
   "metadata": {
    "jupyter": {
     "source_hidden": true
    }
   },
   "outputs": [],
   "source": [
    "def DataSet(data_name):\n",
    "    with open(data_name) as f:\n",
    "        high, wide, extensive = [int(x) for x in next(f).split()]\n",
    "        next(f)\n",
    "        \n",
    "        shapes = []\n",
    "        data = []\n",
    "        \n",
    "        for line in f:\n",
    "            data.append([x for x in line.split()])\n",
    "            \n",
    "        for i in range(len(data)):\n",
    "            for q in range(int(data[i][0])):\n",
    "                temp = []\n",
    "                temp.append(data[i][1]+str(q+1))\n",
    "                for j in range(2,len(data[i])):\n",
    "                    temp.append(int(data[i][j]))\n",
    "                temp.append(None)\n",
    "                temp.append(None)\n",
    "                temp.append(None)\n",
    "                temp.append(int(data[i][2])*int(data[i][3])*int(data[i][4]))\n",
    "                temp.append(1)\n",
    "\n",
    "                shapes.append(temp)  \n",
    "    \n",
    "    return shapes, high, wide, extensive"
   ]
  },
  {
   "cell_type": "markdown",
   "metadata": {},
   "source": [
    "## Function User Input Data"
   ]
  },
  {
   "cell_type": "code",
   "execution_count": 14,
   "metadata": {
    "jupyter": {
     "source_hidden": true
    }
   },
   "outputs": [],
   "source": [
    "def UserInputData():\n",
    "    \n",
    "    high = int(input(\" Ingrese alto del Contenedor\"))\n",
    "    wide = int(input(\" Ingrese ancho del Contenedor\"))\n",
    "    long = int(input(\" Ingrese largo del Contenedor\"))\n",
    "\n",
    "    N = int(input(\" Ingrese cantidad de piezas en total :\"))\n",
    "    n , shapes = 1 , []\n",
    "\n",
    "\n",
    "    # Imput valores\n",
    "    while n <= N:\n",
    "        cantidad = int(input(\" Ingrese cantidad :\"))\n",
    "        code = input(\" Ingrese codigo :\")\n",
    "        high_shape = int(input(\" Ingrese alto de la pieza :\"))\n",
    "        long_shape = int(input(\" Ingrese largo de la pieza :\"))\n",
    "        wide_shape = int(input(\" Ingrese ancho de la pieza :\"))\n",
    "        print(\"  \")\n",
    "\n",
    "        for i in range(cantidad):\n",
    "            temp = [code+str(i+1),high_shape,long_shape,wide_shape,None,None,None,high_shape*long_shape*wide_shape,1]\n",
    "            shapes.append(temp)\n",
    "        n+= cantidad\n",
    "        \n",
    "   \n",
    "    # TO DO : retornar high, wide, long\n",
    "    return shapes, high, wide, long"
   ]
  },
  {
   "cell_type": "markdown",
   "metadata": {},
   "source": [
    "## Function Parcial Volume"
   ]
  },
  {
   "cell_type": "code",
   "execution_count": 15,
   "metadata": {},
   "outputs": [],
   "source": [
    "def parcial_Volume(nuevo, solutions):\n",
    "    _, high, wide, extensive = DataSet(\"First_DataSet.txt\")\n",
    "    max = [0,0,0]\n",
    "\n",
    "    for solution in solutions:\n",
    "        if solution[X] + solution[LARGO] > max[0]:\n",
    "            max[0] = solution[X] + solution[LARGO] \n",
    "\n",
    "        if solution[Y] + solution[ANCHO] > max[1]:\n",
    "            max[1] = solution[Y] + solution[ANCHO] \n",
    "\n",
    "        if solution[Z] + solution[ALTO] > max[2]:\n",
    "            max[2] = solution[Z] + solution[ALTO] \n",
    "\n",
    "    max[0] = nuevo[X] + nuevo[LARGO] if ( nuevo[X] + nuevo[LARGO] <= extensive and nuevo[Y] + nuevo[ANCHO] <= wide and nuevo[Z] + nuevo[ALTO] <= high) else mth.inf\n",
    "    max[1] = nuevo[Y] + nuevo[ANCHO] if ( nuevo[X] + nuevo[LARGO] <= extensive and nuevo[Y] + nuevo[ANCHO] <= wide and nuevo[Z] + nuevo[ALTO] <= high) else mth.inf\n",
    "    max[2] = nuevo[Z] + nuevo[ALTO] if ( nuevo[X] + nuevo[LARGO] <= extensive and nuevo[Y] + nuevo[ANCHO] <= wide and nuevo[Z] + nuevo[ALTO] <= high) else mth.inf\n",
    "\n",
    "    temp = ( max[0] )*( max[1] )*( max[2] )\n",
    "\n",
    "    nuevo[VOLUMEN] = temp if (temp <= high * wide * extensive) else mth.inf"
   ]
  },
  {
   "cell_type": "markdown",
   "metadata": {},
   "source": [
    "## Function is Intersects"
   ]
  },
  {
   "cell_type": "code",
   "execution_count": 16,
   "metadata": {},
   "outputs": [],
   "source": [
    "def is_Intersects(nuevo, solution):\n",
    "    if(pygame.Rect(nuevo[X],nuevo[Y],nuevo[LARGO],nuevo[ANCHO]).colliderect(pygame.Rect(solution[X],solution[Y],solution[LARGO],solution[ANCHO])) \n",
    "    and ((nuevo[Z] >= solution[Z] and nuevo[Z] < solution[Z] + solution[ALTO] )  or (nuevo[Z] + nuevo[ALTO]) > solution[Z] and nuevo[Z] + nuevo[ALTO] <= solution[Z] + solution[ALTO]) ):\n",
    "        return True\n",
    "\n",
    "    return False"
   ]
  },
  {
   "cell_type": "markdown",
   "metadata": {},
   "source": [
    "##  Funtion is Collision"
   ]
  },
  {
   "cell_type": "code",
   "execution_count": 17,
   "metadata": {},
   "outputs": [],
   "source": [
    "def Copy(nuevo):\n",
    "    temp = []\n",
    "    for value in nuevo:\n",
    "        temp.append(value)\n",
    "    return temp\n",
    "\n",
    "def is_Collision(nuevo, candidates, solutions):\n",
    "    collision = False\n",
    "    for _ in range(6):\n",
    "        for solution in solutions:\n",
    "            collision = True if (is_Intersects(nuevo, solution)) else False\n",
    "            if collision:\n",
    "                break\n",
    "\n",
    "        if collision == False:\n",
    "            parcial_Volume(nuevo, solutions)\n",
    "            temp = Copy(nuevo)\n",
    "            candidates.append(temp)\n",
    "                \n",
    "        change_Orientation(nuevo)\n",
    "      "
   ]
  },
  {
   "cell_type": "markdown",
   "metadata": {},
   "source": [
    "## Function Change Orientation"
   ]
  },
  {
   "cell_type": "code",
   "execution_count": 18,
   "metadata": {
    "jupyter": {
     "source_hidden": true
    }
   },
   "outputs": [],
   "source": [
    "def change_Orientation(shape):\n",
    "    \n",
    "    if(shape[ORIENTACION] == 1):\n",
    "        temp = shape[ALTO]\n",
    "        shape[ALTO] = shape[LARGO]\n",
    "        shape[LARGO] = temp\n",
    "        shape[ORIENTACION] = 2\n",
    "        \n",
    "    elif(shape[ORIENTACION] == 2):\n",
    "        temp = shape[ALTO]\n",
    "        shape[ALTO] = shape[ANCHO]\n",
    "        shape[ANCHO] = temp\n",
    "        shape[ORIENTACION] = 3\n",
    "        \n",
    "    elif(shape[ORIENTACION] == 3):\n",
    "        temp = shape[ALTO]\n",
    "        shape[ALTO] = shape[LARGO]\n",
    "        shape[LARGO] = temp\n",
    "        shape[ORIENTACION] = 4\n",
    "        \n",
    "    elif(shape[ORIENTACION] == 4):\n",
    "        temp = shape[ALTO]\n",
    "        shape[ALTO] = shape[ANCHO]\n",
    "        shape[ANCHO] = temp\n",
    "        shape[ORIENTACION] = 5\n",
    "        \n",
    "    elif(shape[ORIENTACION] == 5):\n",
    "        temp = shape[ALTO]\n",
    "        shape[ALTO] = shape[LARGO]\n",
    "        shape[LARGO] = temp\n",
    "        shape[ORIENTACION] = 6\n",
    "        \n",
    "    elif(shape[ORIENTACION] == 6):\n",
    "        temp = shape[ALTO]\n",
    "        shape[ALTO] = shape[ANCHO]\n",
    "        shape[ANCHO] = temp\n",
    "        shape[ORIENTACION] = 1\n",
    "  "
   ]
  },
  {
   "cell_type": "markdown",
   "metadata": {},
   "source": [
    "## Function 3D  Graphics"
   ]
  },
  {
   "cell_type": "code",
   "execution_count": 19,
   "metadata": {},
   "outputs": [],
   "source": [
    "def graphics(cube_definition, first, last):\n",
    "    cube_definition_array = [\n",
    "        np.array(list(item))\n",
    "        for item in cube_definition\n",
    "    ]\n",
    "\n",
    "    points = []\n",
    "    \n",
    "    points += cube_definition_array\n",
    "    vectors = [\n",
    "        cube_definition_array[1] - cube_definition_array[0],\n",
    "        cube_definition_array[2] - cube_definition_array[0],\n",
    "        cube_definition_array[3] - cube_definition_array[0]\n",
    "    ]\n",
    "\n",
    "    points += [cube_definition_array[0] + vectors[0] + vectors[1]]\n",
    "    points += [cube_definition_array[0] + vectors[0] + vectors[2]]\n",
    "    points += [cube_definition_array[0] + vectors[1] + vectors[2]]\n",
    "    points += [cube_definition_array[0] + vectors[0] + vectors[1] + vectors[2]]\n",
    "\n",
    "    points = np.array(points)\n",
    "\n",
    "    edges = [\n",
    "        [points[0], points[3], points[5], points[1]],\n",
    "        [points[1], points[5], points[7], points[4]],\n",
    "        [points[4], points[2], points[6], points[7]],\n",
    "        [points[2], points[6], points[3], points[0]],\n",
    "        [points[0], points[2], points[4], points[1]],\n",
    "        [points[3], points[6], points[7], points[5]]\n",
    "    ]\n",
    "\n",
    "    fig = plt.figure()\n",
    "\n",
    "\n",
    "    faces = Poly3DCollection(edges, linewidths=1.5, edgecolors='k')\n",
    "\n",
    "    if first == last-1:\n",
    "        faces.set_facecolor((0.5,0.9,0.8,0.1))\n",
    "    else:\n",
    "        faces.set_facecolor((1,0.8,0.1,0.6))\n",
    "\n",
    "    \n",
    "    return faces, points\n",
    "\n",
    "\n",
    "def Paint(solutions):\n",
    "    cube_definitions = []\n",
    "    for solution in solutions:\n",
    "        if solution[VOLUMEN] != mth.inf :\n",
    "            cube_definitions.append([(solution[X],solution[Y],solution[Z]), (solution[X]+solution[LARGO],solution[Y],solution[Z]),\n",
    "                                     (solution[X],solution[Y]+solution[ANCHO],solution[Z]), (solution[X],solution[Y],solution[Z]+solution[ALTO])])\n",
    "\n",
    "    cube_definitions.append([(0,0,0),(extensive,0,0),(0,wide,0),(0,0,high)])\n",
    "\n",
    "    ax = plt.figure().add_subplot(111, projection='3d')\n",
    "\n",
    "    for index in range(len(cube_definitions)):\n",
    "        value , points = graphics(cube_definitions[index],index,len(cube_definitions))\n",
    "\n",
    "        ax.add_collection3d(value)\n",
    "\n",
    "        ax.scatter(points[:,0], points[:,1], points[:,1], s=0)\n",
    "\n"
   ]
  },
  {
   "cell_type": "markdown",
   "metadata": {},
   "source": [
    "# Algorithm"
   ]
  },
  {
   "cell_type": "code",
   "execution_count": 20,
   "metadata": {},
   "outputs": [],
   "source": [
    "def Algorithm(shapes):\n",
    "    solutions = []\n",
    "    otherSolution = []\n",
    "    shapes.sort(key=lambda shape: shape[VOLUMEN], reverse=True)\n",
    "\n",
    "    for index in range(4,7):\n",
    "        shapes[0][index] = 0\n",
    "\n",
    "    #solutions.append(shapes[0])\n",
    "\n",
    "    for index in range(0,len(shapes)):\n",
    "        candidates = []\n",
    "        if len(solutions)==0 :\n",
    "            is_Collision(shapes[index], candidates, solutions)\n",
    "            \n",
    "        for solution in solutions:\n",
    "            for status in range(3):\n",
    "                if (status == 0):\n",
    "                    shapes[index][X] = solution[X] + solution[LARGO]\n",
    "                    shapes[index][Y] = solution[Y]\n",
    "                    shapes[index][Z] = solution[Z]\n",
    "\n",
    "                if (status == 1):\n",
    "                    shapes[index][X] = solution[X] \n",
    "                    shapes[index][Y] = solution[Y] + solution[ANCHO]\n",
    "                    shapes[index][Z] = solution[Z]\n",
    "\n",
    "                if (status == 2):\n",
    "                    shapes[index][X] = solution[X] \n",
    "                    shapes[index][Y] = solution[Y]\n",
    "                    shapes[index][Z] = solution[Z] + solution[ALTO]\n",
    "\n",
    "                is_Collision(shapes[index], candidates, solutions)\n",
    "        \n",
    "        if len(candidates) > 0:\n",
    "            candidates.sort(key=lambda candidate: candidate[VOLUMEN])\n",
    "            if candidates[0][VOLUMEN] == mth.inf:\n",
    "                otherSolution.append(candidates[0])\n",
    "            else:\n",
    "                solutions.append(candidates[0])\n",
    "            \n",
    "    return solutions, otherSolution\n"
   ]
  },
  {
   "cell_type": "markdown",
   "metadata": {},
   "source": [
    "## OutPut"
   ]
  },
  {
   "cell_type": "code",
   "execution_count": 21,
   "metadata": {},
   "outputs": [],
   "source": [
    "def OutPut(solutions, TotalVolumen, UsadoVolumen, number):\n",
    "\n",
    "    for solution in solutions:\n",
    "        if solution[VOLUMEN] != mth.inf:\n",
    "            UsadoVolumen += (solution[ALTO]*solution[ANCHO]*solution[LARGO])\n",
    "\n",
    "    print(\" Contenedores usados : \",number)\n",
    "    print (\" Volumen del Contenedor : \",TotalVolumen,\"m3\")\n",
    "    print (\" Volumen Disponible : \",TotalVolumen-UsadoVolumen,\"m3\")\n",
    "    print (\" Volumen Ocupado : \",UsadoVolumen,\"m3  -> \", \"{0:.2f}\".format((UsadoVolumen/TotalVolumen)*100),\"%\\n\")\n",
    "\n",
    "    print(\"Contenedor\\t\",\"Formato\\t\",\"Coordenadas\\t\",\"Orientacion\")\n",
    "\n",
    "    for solution in solutions:\n",
    "        if solution[VOLUMEN] != mth.inf:\n",
    "            print(\"     1\\t\\t   \",str(solution[CODIGO])+\"\\t\\t   \",str(solution[X])+\",\"+str(solution[Y])+\",\"+str(solution[Z])+\"\\t    \",str(solution[ORIENTACION]))\n",
    "\n"
   ]
  },
  {
   "cell_type": "markdown",
   "metadata": {},
   "source": [
    "## Call Function"
   ]
  },
  {
   "cell_type": "code",
   "execution_count": 25,
   "metadata": {},
   "outputs": [
    {
     "name": "stdout",
     "output_type": "stream",
     "text": [
      " Contenedores usados :  1\n",
      " Volumen del Contenedor :  80 m3\n",
      " Volumen Disponible :  0 m3\n",
      " Volumen Ocupado :  80 m3  ->  100.00 %\n",
      "\n",
      "Contenedor\t Formato\t Coordenadas\t Orientacion\n",
      "     1\t\t    E1\t\t    0,0,0\t     1\n",
      "     1\t\t    D1\t\t    2,0,0\t     4\n",
      "     1\t\t    D2\t\t    2,2,0\t     4\n",
      "     1\t\t    D3\t\t    2,0,2\t     4\n",
      "     1\t\t    D4\t\t    2,2,2\t     4\n",
      "     1\t\t    B1\t\t    0,3,0\t     3\n",
      "     1\t\t    B2\t\t    0,0,3\t     2\n",
      "     1\t\t    A1\t\t    0,3,3\t     4\n",
      " Contenedores usados :  2\n",
      " Volumen del Contenedor :  80 m3\n",
      " Volumen Disponible :  6 m3\n",
      " Volumen Ocupado :  74 m3  ->  92.50 %\n",
      "\n",
      "Contenedor\t Formato\t Coordenadas\t Orientacion\n",
      "     1\t\t    D5\t\t    0,0,0\t     1\n",
      "     1\t\t    D6\t\t    2,0,0\t     4\n",
      "     1\t\t    D7\t\t    0,0,2\t     1\n",
      "     1\t\t    B3\t\t    2,2,0\t     5\n",
      "     1\t\t    B4\t\t    2,0,2\t     4\n",
      "     1\t\t    B5\t\t    0,3,0\t     3\n",
      "     1\t\t    B6\t\t    2,2,1\t     5\n",
      "     1\t\t    B7\t\t    2,1,2\t     4\n",
      "     1\t\t    C1\t\t    2,2,2\t     4\n",
      "     1\t\t    A2\t\t    0,3,3\t     4\n"
     ]
    },
    {
     "name": "stderr",
     "output_type": "stream",
     "text": [
      "C:\\Users\\ANDRES\\Anaconda3\\lib\\site-packages\\ipykernel_launcher.py:32: RuntimeWarning: More than 20 figures have been opened. Figures created through the pyplot interface (`matplotlib.pyplot.figure`) are retained until explicitly closed and may consume too much memory. (To control this warning, see the rcParam `figure.max_open_warning`).\n"
     ]
    },
    {
     "data": {
      "image/png": "[encoded data removed]",
      "text/plain": [
       "<Figure size 432x288 with 1 Axes>"
      ]
     },
     "metadata": {
      "needs_background": "light"
     },
     "output_type": "display_data"
    },
    {
     "data": {
      "text/plain": [
       "<Figure size 432x288 with 0 Axes>"
      ]
     },
     "metadata": {},
     "output_type": "display_data"
    },
    {
     "data": {
      "text/plain": [
       "<Figure size 432x288 with 0 Axes>"
      ]
     },
     "metadata": {},
     "output_type": "display_data"
    },
    {
     "data": {
      "text/plain": [
       "<Figure size 432x288 with 0 Axes>"
      ]
     },
     "metadata": {},
     "output_type": "display_data"
    },
    {
     "data": {
      "text/plain": [
       "<Figure size 432x288 with 0 Axes>"
      ]
     },
     "metadata": {},
     "output_type": "display_data"
    },
    {
     "data": {
      "text/plain": [
       "<Figure size 432x288 with 0 Axes>"
      ]
     },
     "metadata": {},
     "output_type": "display_data"
    },
    {
     "data": {
      "text/plain": [
       "<Figure size 432x288 with 0 Axes>"
      ]
     },
     "metadata": {},
     "output_type": "display_data"
    },
    {
     "data": {
      "text/plain": [
       "<Figure size 432x288 with 0 Axes>"
      ]
     },
     "metadata": {},
     "output_type": "display_data"
    },
    {
     "data": {
      "text/plain": [
       "<Figure size 432x288 with 0 Axes>"
      ]
     },
     "metadata": {},
     "output_type": "display_data"
    },
    {
     "data": {
      "text/plain": [
       "<Figure size 432x288 with 0 Axes>"
      ]
     },
     "metadata": {},
     "output_type": "display_data"
    },
    {
     "data": {
      "image/png": "[encoded data removed]",
      "text/plain": [
       "<Figure size 432x288 with 1 Axes>"
      ]
     },
     "metadata": {
      "needs_background": "light"
     },
     "output_type": "display_data"
    },
    {
     "data": {
      "text/plain": [
       "<Figure size 432x288 with 0 Axes>"
      ]
     },
     "metadata": {},
     "output_type": "display_data"
    },
    {
     "data": {
      "text/plain": [
       "<Figure size 432x288 with 0 Axes>"
      ]
     },
     "metadata": {},
     "output_type": "display_data"
    },
    {
     "data": {
      "text/plain": [
       "<Figure size 432x288 with 0 Axes>"
      ]
     },
     "metadata": {},
     "output_type": "display_data"
    },
    {
     "data": {
      "text/plain": [
       "<Figure size 432x288 with 0 Axes>"
      ]
     },
     "metadata": {},
     "output_type": "display_data"
    },
    {
     "data": {
      "text/plain": [
       "<Figure size 432x288 with 0 Axes>"
      ]
     },
     "metadata": {},
     "output_type": "display_data"
    },
    {
     "data": {
      "text/plain": [
       "<Figure size 432x288 with 0 Axes>"
      ]
     },
     "metadata": {},
     "output_type": "display_data"
    },
    {
     "data": {
      "text/plain": [
       "<Figure size 432x288 with 0 Axes>"
      ]
     },
     "metadata": {},
     "output_type": "display_data"
    },
    {
     "data": {
      "text/plain": [
       "<Figure size 432x288 with 0 Axes>"
      ]
     },
     "metadata": {},
     "output_type": "display_data"
    },
    {
     "data": {
      "text/plain": [
       "<Figure size 432x288 with 0 Axes>"
      ]
     },
     "metadata": {},
     "output_type": "display_data"
    },
    {
     "data": {
      "text/plain": [
       "<Figure size 432x288 with 0 Axes>"
      ]
     },
     "metadata": {},
     "output_type": "display_data"
    },
    {
     "data": {
      "text/plain": [
       "<Figure size 432x288 with 0 Axes>"
      ]
     },
     "metadata": {},
     "output_type": "display_data"
    }
   ],
   "source": [
    "shapes, high, wide, extensive = DataSet(\"First_DataSet.txt\")\n",
    "#shapes, high, wide, extensive  = UserInputData()\n",
    "solutions = []\n",
    "TotalVolumen = high * wide *extensive\n",
    "\n",
    "\n",
    "temp , otherSolution = Algorithm(shapes)\n",
    "solutions.append(temp)\n",
    "while len(otherSolution) > 0:\n",
    "    solution , otherSolution = Algorithm(otherSolution)\n",
    "    solutions.append(solution)\n",
    "\n",
    "\n",
    "for number in range(len(solutions)):\n",
    "    UsadoVolumen = 0\n",
    "    OutPut(solutions[number], TotalVolumen, UsadoVolumen, number+1)\n",
    "    Paint(solutions[number])\n"
   ]
  },
  {
   "cell_type": "code",
   "execution_count": null,
   "metadata": {},
   "outputs": [],
   "source": []
  },
  {
   "cell_type": "code",
   "execution_count": null,
   "metadata": {},
   "outputs": [],
   "source": []
  }
 ],
 "metadata": {
  "kernelspec": {
   "display_name": "Python 3",
   "language": "python",
   "name": "python3"
  },
  "language_info": {
   "codemirror_mode": {
    "name": "ipython",
    "version": 3
   },
   "file_extension": ".py",
   "mimetype": "text/x-python",
   "name": "python",
   "nbconvert_exporter": "python",
   "pygments_lexer": "ipython3",
   "version": "3.7.3"
  }
 },
 "nbformat": 4,
 "nbformat_minor": 4
}
